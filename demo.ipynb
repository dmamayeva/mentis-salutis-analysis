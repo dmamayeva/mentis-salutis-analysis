{
 "cells": [
  {
   "cell_type": "code",
   "execution_count": 6,
   "metadata": {},
   "outputs": [],
   "source": [
    "import requests"
   ]
  },
  {
   "cell_type": "code",
   "execution_count": 7,
   "metadata": {},
   "outputs": [],
   "source": [
    "example_request = {\"Gender\":\"Female\",\n",
    "\"Age\":37,\n",
    "\"Work Pressure\":2.0,\n",
    "\"Job Satisfaction\":4.0,\n",
    "\"Sleep Duration\":\"7-8 hours\",\n",
    "\"Dietary Habits\":\"Moderate\",\n",
    "\"Have you ever had suicidal thoughts ?\":\"No\",\n",
    "\"Work Hours\":6,\n",
    "\"Financial Stress\":2,\n",
    "\"Family History of Mental Illness\":\"No\"}"
   ]
  },
  {
   "cell_type": "code",
   "execution_count": 8,
   "metadata": {},
   "outputs": [
    {
     "data": {
      "text/plain": [
       "{'prediction': 0, 'prediction_probability': 7.847870051591599e-07}"
      ]
     },
     "execution_count": 8,
     "metadata": {},
     "output_type": "execute_result"
    }
   ],
   "source": [
    "import requests\n",
    "url = \"http://0.0.0.0:9696/predict\"\n",
    "requests.post(url, json=example_request).json()"
   ]
  },
  {
   "cell_type": "code",
   "execution_count": null,
   "metadata": {},
   "outputs": [],
   "source": []
  }
 ],
 "metadata": {
  "kernelspec": {
   "display_name": "mentis-salutis-analysis-wT8lJJwo",
   "language": "python",
   "name": "python3"
  },
  "language_info": {
   "codemirror_mode": {
    "name": "ipython",
    "version": 3
   },
   "file_extension": ".py",
   "mimetype": "text/x-python",
   "name": "python",
   "nbconvert_exporter": "python",
   "pygments_lexer": "ipython3",
   "version": "3.12.1"
  }
 },
 "nbformat": 4,
 "nbformat_minor": 2
}
